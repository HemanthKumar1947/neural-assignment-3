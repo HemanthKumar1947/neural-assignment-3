{
  "nbformat": 4,
  "nbformat_minor": 0,
  "metadata": {
    "colab": {
      "provenance": [],
      "authorship_tag": "ABX9TyMzRhnjsPVkZEtRxculRmah",
      "include_colab_link": true
    },
    "kernelspec": {
      "name": "python3",
      "display_name": "Python 3"
    },
    "language_info": {
      "name": "python"
    }
  },
  "cells": [
    {
      "cell_type": "markdown",
      "metadata": {
        "id": "view-in-github",
        "colab_type": "text"
      },
      "source": [
        "<a href=\"https://colab.research.google.com/github/HemanthKumar1947/neural-assignment-3/blob/main/Untitled0.ipynb\" target=\"_parent\"><img src=\"https://colab.research.google.com/assets/colab-badge.svg\" alt=\"Open In Colab\"/></a>"
      ]
    },
    {
      "cell_type": "code",
      "source": [
        "#Progam 1\n",
        "class Employee:\n",
        "    num_employees = 0\n",
        "\n",
        "    def __init__(self, name, family, salary, department):\n",
        "        self.name = name\n",
        "        self.family = family\n",
        "        self.salary = salary\n",
        "        self.department = department\n",
        "        Employee.num_employees += 1\n",
        "\n",
        "    def display_employee_info(self):\n",
        "        print(f\"Name: {self.name}\")\n",
        "        print(f\"Family: {self.family}\")\n",
        "        print(f\"Salary: ${self.salary}\")\n",
        "        print(f\"Department: {self.department}\")\n",
        "\n",
        "    @staticmethod\n",
        "    def average_salary(employee_list):\n",
        "        total_salary = sum(emp.salary for emp in employee_list)\n",
        "        return total_salary / len(employee_list) if len(employee_list) > 0 else 0\n",
        "\n",
        "\n",
        "class FulltimeEmployee(Employee):\n",
        "    def __init__(self, name, family, salary, department):\n",
        "        super().__init__(name, family, salary, department)\n",
        "\n",
        "\n",
        "# Create instances of Employee class\n",
        "employee1 = Employee(\"Hemanth Suddala\", \"Suddala Family\", 70000, \"HR\")\n",
        "employee2 = Employee(\"Charitha Gongati\", \"Gongati Family\", 65000, \"IT\")\n",
        "employee3 = Employee(\"Sampath Pandula\", \"Pandula Family\", 75000, \"Finance\")\n",
        "# Create instances of FulltimeEmployee class\n",
        "fulltime_employee1 = FulltimeEmployee(\"Shravya Mendu\", \"Mendu Family\", 80000, \"Marketing\")\n",
        "fulltime_employee2 = FulltimeEmployee(\"Sumanth Morishetty\", \"Morishetty Family\", 70000, \"Sales\")\n",
        "\n",
        "# Display employee information\n",
        "employee1.display_employee_info()\n",
        "print(\"------------------------\")\n",
        "employee2.display_employee_info()\n",
        "print(\"------------------------\")\n",
        "employee3.display_employee_info()\n",
        "print(\"------------------------\")\n",
        "fulltime_employee1.display_employee_info()\n",
        "print(\"------------------------\")\n",
        "fulltime_employee2.display_employee_info()\n",
        "print(\"------------------------\")\n",
        "\n",
        "# Calculate and display average salary\n",
        "all_employees = [employee1, employee2, employee3, fulltime_employee1, fulltime_employee2]\n",
        "avg_salary = Employee.average_salary(all_employees)\n",
        "print(f\"Average Salary: ${avg_salary:.2f}\")\n",
        "\n",
        "# Display total number of employees\n",
        "print(f\"Total Number of Employees: {Employee.num_employees}\")"
      ],
      "metadata": {
        "colab": {
          "base_uri": "https://localhost:8080/"
        },
        "id": "zCLXpXTp-MGD",
        "outputId": "548cf849-7a0f-48e3-bf83-b200befda091"
      },
      "execution_count": null,
      "outputs": [
        {
          "output_type": "stream",
          "name": "stdout",
          "text": [
            "Name: Hemanth Suddala\n",
            "Family: Suddala Family\n",
            "Salary: $70000\n",
            "Department: HR\n",
            "------------------------\n",
            "Name: Charitha Gongati\n",
            "Family: Gongati Family\n",
            "Salary: $65000\n",
            "Department: IT\n",
            "------------------------\n",
            "Name: Sampath Pandula\n",
            "Family: Pandula Family\n",
            "Salary: $75000\n",
            "Department: Finance\n",
            "------------------------\n",
            "Name: Shravya Mendu\n",
            "Family: Mendu Family\n",
            "Salary: $80000\n",
            "Department: Marketing\n",
            "------------------------\n",
            "Name: Sumanth Morishetty\n",
            "Family: Morishetty Family\n",
            "Salary: $70000\n",
            "Department: Sales\n",
            "------------------------\n",
            "Average Salary: $72000.00\n",
            "Total Number of Employees: 5\n"
          ]
        }
      ]
    },
    {
      "cell_type": "code",
      "execution_count": null,
      "metadata": {
        "colab": {
          "base_uri": "https://localhost:8080/"
        },
        "id": "oTSk3XNI-Fyk",
        "outputId": "17b98392-8199-4f34-8ca2-b0ab7aec4b89"
      },
      "outputs": [
        {
          "output_type": "stream",
          "name": "stdout",
          "text": [
            "Original random vector:\n",
            "[ 2.78014029  3.30813226  9.73900128 14.25646019  0.          9.31922183\n",
            "  8.55003665  0.          5.83853081  6.29708551 11.33087814  4.33738617\n",
            "  0.          5.89409356 10.68221761  8.26858457 10.35423953  0.\n",
            " 13.61578999 16.01413224]\n",
            "\n",
            "Reshaped array:\n",
            "[[ 2.78014029  3.30813226  9.73900128 14.25646019  0.        ]\n",
            " [ 9.31922183  8.55003665  0.          5.83853081  6.29708551]\n",
            " [11.33087814  4.33738617  0.          5.89409356 10.68221761]\n",
            " [ 8.26858457 10.35423953  0.         13.61578999 16.01413224]]\n"
          ]
        }
      ],
      "source": [
        "#Program 2\n",
        "import numpy as np\n",
        "\n",
        "# Create a random vector of size 20 with floats in the range 1-20\n",
        "random_vector = np.random.uniform(1, 20, 20)\n",
        "\n",
        "# Reshape the vector into a 4x5 array\n",
        "reshaped_array = random_vector.reshape(4, 5)\n",
        "\n",
        "# Find the indices of the maximum value in each row\n",
        "max_indices = np.argmax(reshaped_array, axis=1)\n",
        "\n",
        "# Replace the maximum value in each row with 0\n",
        "for row_idx, col_idx in enumerate(max_indices):\n",
        "    reshaped_array[row_idx, col_idx] = 0\n",
        "\n",
        "print(\"Original random vector:\")\n",
        "print(random_vector)\n",
        "print(\"\\nReshaped array:\")\n",
        "print(reshaped_array)"
      ]
    }
  ]
}